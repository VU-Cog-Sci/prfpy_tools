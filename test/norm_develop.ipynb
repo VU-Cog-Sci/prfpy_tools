{
 "cells": [
  {
   "cell_type": "code",
   "execution_count": 16,
   "metadata": {},
   "outputs": [
    {
     "name": "stdout",
     "output_type": "stream",
     "text": [
      "The autoreload extension is already loaded. To reload it, use:\n",
      "  %reload_ext autoreload\n"
     ]
    }
   ],
   "source": [
    "%load_ext autoreload\n",
    "%autoreload 2\n",
    "\n",
    "import numpy as np\n",
    "import nibabel as nb\n",
    "\n",
    "import sys\n",
    "sys.path.append(\"..\")"
   ]
  },
  {
   "cell_type": "code",
   "execution_count": 20,
   "metadata": {},
   "outputs": [],
   "source": [
    "from prfpy.stimulus import PRFStimulus2D\n",
    "from prfpy.grid import Iso2DGaussianGridder, Norm_Iso2DGaussianGridder\n",
    "from prfpy.fit import Iso2DGaussianFitter, Norm_Iso2DGaussianFitter\n",
    "\n",
    "from utils.utils import *"
   ]
  },
  {
   "cell_type": "code",
   "execution_count": null,
   "metadata": {},
   "outputs": [],
   "source": [
    "dm_1 = create_dm_from_screenshots(screenshot_path='')\n",
    "dm_2 = create_dm_from_screenshots(screenshot_path='')\n",
    "dm_3 = create_dm_from_screenshots(screenshot_path='')\n",
    "dm_4 = create_dm_from_screenshots(screenshot_path='')\n",
    "dm_5 = create_dm_from_screenshots(screenshot_path='')\n",
    "\n",
    "dm_full = np.concatenate((dm1,dm2,dm3,dm4,dm5) axis=-1)\n",
    "\n",
    "prf_stim = PRFStimulus2D(screen_size_cm=70, \n",
    "                         screen_distance_cm=210, \n",
    "                         design_matrix=dm_full,\n",
    "                         TR=1.5)\n",
    "\n",
    "grid_nr = 20\n",
    "max_ecc_size = 16\n",
    "sizes, eccs, polars = max_ecc_size * np.linspace(0.25,1,grid_nr)**2, \\\n",
    "                    max_ecc_size * np.linspace(0.1,1,grid_nr)**2, \\\n",
    "                        np.linspace(0, 2*np.pi, grid_nr)\n",
    "\n",
    "gg = Iso2DGaussianGridder(stimulus=prf_stim)"
   ]
  },
  {
   "cell_type": "code",
   "execution_count": null,
   "metadata": {},
   "outputs": [],
   "source": [
    "##TODO: SETUP ANALYSIS AS IN NOTES\n",
    "\n",
    "## TEMPORARY\n",
    "mask = nb.load('/Users/marcoaqil/PRFMapping/PRFMapping-Deriv-nomprage-durab7.5-hires/fmriprep/sub-001/ses-1/func/sub-001_ses-1_task-1R_run-1_space-T1w_desc-aparcaseg_dseg.nii.gz')\n",
    "mask_cortex = mask.get_data().astype(bool)\n",
    "timecoursefile = nb.load('/Users/marcoaqil/PRFMapping/PRFMapping-Deriv-nomprage-durab7.5-hires/fmriprep/sub-001/ses-1/func/sub-001_ses-1_task-1R_run-1_space-T1w_desc-preproc_bold.nii.gz')\n",
    "timecourse = timecoursefile.get_data()\n",
    "timecourse_cortex = timecourse[mask_cortex]\n",
    "#exclude timecourses with zero variance\n",
    "timecourse_cortex_nonzerovar = timecourse_cortex[np.where(np.var(timecourse_cortex, axis=-1)>0)]"
   ]
  },
  {
   "cell_type": "code",
   "execution_count": null,
   "metadata": {},
   "outputs": [],
   "source": [
    "%%time\n",
    "gf = Iso2DGaussianFitter(data=timecourse_cortex_nonzerovar, gridder=gg, n_jobs=10)\n",
    "\n",
    "gf.grid_fit(ecc_grid=eccs,\n",
    "                 polar_grid=polars,\n",
    "                 size_grid=sizes)"
   ]
  },
  {
   "cell_type": "code",
   "execution_count": null,
   "metadata": {},
   "outputs": [],
   "source": [
    "#refine Gaussian fits\n",
    "%%time\n",
    "gf.n_jobs=10\n",
    "gf.iterative_fit(rsq_threshold=0.0, verbose=True)"
   ]
  },
  {
   "cell_type": "code",
   "execution_count": null,
   "metadata": {},
   "outputs": [],
   "source": [
    "%%time\n",
    "#now refit normalization model, starting from results of iterated Gaussian fitting\n",
    "gg_norm = Norm_Iso2DGaussianGridder(stimulus=prf_stim)\n",
    "gf_norm = Norm_Iso2DGaussianFitter(data=timecourse_cortex_nonzerovar,\n",
    "                                   gridder=gg_norm,\n",
    "                                   n_jobs=10)\n",
    "\n",
    "#have to add a column since in current code syntax\n",
    "#gridsearch_params always contains the CSS exponent parameter, even if it is not fit.\n",
    "#whereas iterative_search_params does not contain it if it is not fit)\n",
    "\n",
    "starting_params = np.insert(gf.iterative_search_params, -1, 1.0, axis=-1)\n",
    "\n",
    "gf_norm.iterative_fit(rsq_threshold=0.05, gridsearch_params=starting_params, verbose=True)\n",
    "\n",
    "current_result=np.copy(gf_norm.iterative_search_params)"
   ]
  },
  {
   "cell_type": "code",
   "execution_count": null,
   "metadata": {},
   "outputs": [],
   "source": [
    "%%time\n",
    "#if needed, the iterative fit can be run again \n",
    "#(this makes sense only if changing some values in iterative_search minimization for increased precision)\n",
    "new_starting_params = np.insert(current_result, -1, 1.0, axis=-1)\n",
    "gf_norm.iterative_fit(rsq_threshold=0.0, gridsearch_params=new_starting_params, verbose=True)\n",
    "current_result=np.copy(gf_norm.iterative_search_params)"
   ]
  },
  {
   "cell_type": "code",
   "execution_count": null,
   "metadata": {},
   "outputs": [],
   "source": [
    "np.mean(gf_norm.iterative_search_params[gf_norm.rsq_mask,-1])"
   ]
  },
  {
   "cell_type": "code",
   "execution_count": null,
   "metadata": {},
   "outputs": [],
   "source": [
    "np.mean(gf.iterative_search_params[gf_norm.rsq_mask,-1])"
   ]
  },
  {
   "cell_type": "code",
   "execution_count": null,
   "metadata": {},
   "outputs": [],
   "source": [
    "attempt = np.zeros((78,102,80,10))\n",
    "ha = attempt.reshape((-1,10))\n",
    "ha[np.ravel(np.var(timecourse, axis=-1)>0) & np.ravel(mask_cortex)]=gf_norm.iterative_search_params\n",
    "\n",
    "haha = ha.reshape((78,102,80,10))\n",
    "\n",
    "for i in range(10):\n",
    "    nb.Nifti1Image(haha[:,:,:,i], timecoursefile.affine).to_filename('norm{}.nii.gz'.format(i))\n"
   ]
  }
 ],
 "metadata": {
  "kernelspec": {
   "display_name": "Python 3",
   "language": "python",
   "name": "python3"
  },
  "language_info": {
   "codemirror_mode": {
    "name": "ipython",
    "version": 3
   },
   "file_extension": ".py",
   "mimetype": "text/x-python",
   "name": "python",
   "nbconvert_exporter": "python",
   "pygments_lexer": "ipython3",
   "version": "3.7.3"
  }
 },
 "nbformat": 4,
 "nbformat_minor": 2
}
