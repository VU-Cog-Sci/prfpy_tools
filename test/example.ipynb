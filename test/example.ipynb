{
 "cells": [
  {
   "cell_type": "code",
   "execution_count": 4,
   "metadata": {},
   "outputs": [],
   "source": [
    "%%capture\n",
    "import numpy as np\n",
    "from prfpy.stimulus import PRFStimulus2D\n",
    "from prfpy.model import Iso2DGaussianModel\n",
    "from prfpy.fit import Iso2DGaussianFitter"
   ]
  },
  {
   "cell_type": "code",
   "execution_count": 9,
   "metadata": {},
   "outputs": [],
   "source": [
    "prf_stim = PRFStimulus2D(screen_size_cm=screen_size_cm,\n",
    "                             screen_distance_cm=screen_distance_cm,\n",
    "                             design_matrix=dm_full,\n",
    "                             TR=TR,\n",
    "                             task_lengths=task_lengths,\n",
    "                             task_names=task_names,\n",
    "                             late_iso_dict=late_iso_dict)"
   ]
  },
  {
   "cell_type": "code",
   "execution_count": null,
   "metadata": {},
   "outputs": [],
   "source": [
    "gg = Iso2DGaussianModel(stimulus=prf_stim,\n",
    "                          hrf=hrf,\n",
    "                          filter_predictions=filter_predictions,\n",
    "                          filter_type=filter_type,\n",
    "                          filter_params=filter_params,\n",
    "                          normalize_RFs=normalize_RFs)\n",
    "\n",
    "gf = Iso2DGaussianFitter(data=data, model=gg, n_jobs=n_jobs, fit_hrf=fit_hrf)"
   ]
  },
  {
   "cell_type": "code",
   "execution_count": null,
   "metadata": {},
   "outputs": [],
   "source": [
    "gf.grid_fit(ecc_grid=eccs,\n",
    "                polar_grid=polars,\n",
    "                size_grid=sizes,\n",
    "                verbose=verbose,\n",
    "                n_batches=n_batches,\n",
    "                pos_prfs_only=pos_prfs_only)"
   ]
  },
  {
   "cell_type": "code",
   "execution_count": null,
   "metadata": {},
   "outputs": [],
   "source": [
    "gf.iterative_fit(rsq_threshold=rsq_threshold, verbose=verbose,\n",
    "                         bounds=gauss_bounds,\n",
    "                         constraints=constraints,\n",
    "                             xtol=xtol,\n",
    "                             ftol=xtol)"
   ]
  }
 ],
 "metadata": {
  "kernelspec": {
   "display_name": "Python 3",
   "language": "python",
   "name": "python3"
  },
  "language_info": {
   "codemirror_mode": {
    "name": "ipython",
    "version": 3
   },
   "file_extension": ".py",
   "mimetype": "text/x-python",
   "name": "python",
   "nbconvert_exporter": "python",
   "pygments_lexer": "ipython3",
   "version": "3.6.9"
  }
 },
 "nbformat": 4,
 "nbformat_minor": 2
}
